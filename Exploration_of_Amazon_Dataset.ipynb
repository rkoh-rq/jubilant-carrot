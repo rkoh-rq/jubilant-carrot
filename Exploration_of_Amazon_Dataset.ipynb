{
  "nbformat": 4,
  "nbformat_minor": 0,
  "metadata": {
    "colab": {
      "name": "Exploration of Amazon Dataset.ipynb",
      "provenance": [],
      "collapsed_sections": [
        "vdJoG0_FSNSP",
        "ZHP4YrhRV9Ks",
        "mDgAQnY1NBmo"
      ]
    },
    "kernelspec": {
      "display_name": "Python 3",
      "name": "python3"
    },
    "widgets": {
      "application/vnd.jupyter.widget-state+json": {
        "ea029875c7c74d0f814c7fdf4d3b74bf": {
          "model_module": "@jupyter-widgets/controls",
          "model_name": "HBoxModel",
          "state": {
            "_view_name": "HBoxView",
            "_dom_classes": [],
            "_model_name": "HBoxModel",
            "_view_module": "@jupyter-widgets/controls",
            "_model_module_version": "1.5.0",
            "_view_count": null,
            "_view_module_version": "1.5.0",
            "box_style": "",
            "layout": "IPY_MODEL_ff3179e4d70943acb63b77af1179285f",
            "_model_module": "@jupyter-widgets/controls",
            "children": [
              "IPY_MODEL_6d7bc655de19402d98212282f9256689",
              "IPY_MODEL_8a7baae9cfbb43cc9d583959024bdba9"
            ]
          }
        },
        "ff3179e4d70943acb63b77af1179285f": {
          "model_module": "@jupyter-widgets/base",
          "model_name": "LayoutModel",
          "state": {
            "_view_name": "LayoutView",
            "grid_template_rows": null,
            "right": null,
            "justify_content": null,
            "_view_module": "@jupyter-widgets/base",
            "overflow": null,
            "_model_module_version": "1.2.0",
            "_view_count": null,
            "flex_flow": null,
            "width": null,
            "min_width": null,
            "border": null,
            "align_items": null,
            "bottom": null,
            "_model_module": "@jupyter-widgets/base",
            "top": null,
            "grid_column": null,
            "overflow_y": null,
            "overflow_x": null,
            "grid_auto_flow": null,
            "grid_area": null,
            "grid_template_columns": null,
            "flex": null,
            "_model_name": "LayoutModel",
            "justify_items": null,
            "grid_row": null,
            "max_height": null,
            "align_content": null,
            "visibility": null,
            "align_self": null,
            "height": null,
            "min_height": null,
            "padding": null,
            "grid_auto_rows": null,
            "grid_gap": null,
            "max_width": null,
            "order": null,
            "_view_module_version": "1.2.0",
            "grid_template_areas": null,
            "object_position": null,
            "object_fit": null,
            "grid_auto_columns": null,
            "margin": null,
            "display": null,
            "left": null
          }
        },
        "6d7bc655de19402d98212282f9256689": {
          "model_module": "@jupyter-widgets/controls",
          "model_name": "FloatProgressModel",
          "state": {
            "_view_name": "ProgressView",
            "style": "IPY_MODEL_7072e4e2972b4b4c857209ae370fccc2",
            "_dom_classes": [],
            "description": "100%",
            "_model_name": "FloatProgressModel",
            "bar_style": "success",
            "max": 100,
            "_view_module": "@jupyter-widgets/controls",
            "_model_module_version": "1.5.0",
            "value": 100,
            "_view_count": null,
            "_view_module_version": "1.5.0",
            "orientation": "horizontal",
            "min": 0,
            "description_tooltip": null,
            "_model_module": "@jupyter-widgets/controls",
            "layout": "IPY_MODEL_5c4ffdbd4921447babedde17a92e63b2"
          }
        },
        "8a7baae9cfbb43cc9d583959024bdba9": {
          "model_module": "@jupyter-widgets/controls",
          "model_name": "HTMLModel",
          "state": {
            "_view_name": "HTMLView",
            "style": "IPY_MODEL_d435090622434480af8afa5bbf666aee",
            "_dom_classes": [],
            "description": "",
            "_model_name": "HTMLModel",
            "placeholder": "​",
            "_view_module": "@jupyter-widgets/controls",
            "_model_module_version": "1.5.0",
            "value": " 100/100 [08:29&lt;00:00,  5.10s/it]",
            "_view_count": null,
            "_view_module_version": "1.5.0",
            "description_tooltip": null,
            "_model_module": "@jupyter-widgets/controls",
            "layout": "IPY_MODEL_b1abb6a789584e3988c3f189307d19f4"
          }
        },
        "7072e4e2972b4b4c857209ae370fccc2": {
          "model_module": "@jupyter-widgets/controls",
          "model_name": "ProgressStyleModel",
          "state": {
            "_view_name": "StyleView",
            "_model_name": "ProgressStyleModel",
            "description_width": "initial",
            "_view_module": "@jupyter-widgets/base",
            "_model_module_version": "1.5.0",
            "_view_count": null,
            "_view_module_version": "1.2.0",
            "bar_color": null,
            "_model_module": "@jupyter-widgets/controls"
          }
        },
        "5c4ffdbd4921447babedde17a92e63b2": {
          "model_module": "@jupyter-widgets/base",
          "model_name": "LayoutModel",
          "state": {
            "_view_name": "LayoutView",
            "grid_template_rows": null,
            "right": null,
            "justify_content": null,
            "_view_module": "@jupyter-widgets/base",
            "overflow": null,
            "_model_module_version": "1.2.0",
            "_view_count": null,
            "flex_flow": null,
            "width": null,
            "min_width": null,
            "border": null,
            "align_items": null,
            "bottom": null,
            "_model_module": "@jupyter-widgets/base",
            "top": null,
            "grid_column": null,
            "overflow_y": null,
            "overflow_x": null,
            "grid_auto_flow": null,
            "grid_area": null,
            "grid_template_columns": null,
            "flex": null,
            "_model_name": "LayoutModel",
            "justify_items": null,
            "grid_row": null,
            "max_height": null,
            "align_content": null,
            "visibility": null,
            "align_self": null,
            "height": null,
            "min_height": null,
            "padding": null,
            "grid_auto_rows": null,
            "grid_gap": null,
            "max_width": null,
            "order": null,
            "_view_module_version": "1.2.0",
            "grid_template_areas": null,
            "object_position": null,
            "object_fit": null,
            "grid_auto_columns": null,
            "margin": null,
            "display": null,
            "left": null
          }
        },
        "d435090622434480af8afa5bbf666aee": {
          "model_module": "@jupyter-widgets/controls",
          "model_name": "DescriptionStyleModel",
          "state": {
            "_view_name": "StyleView",
            "_model_name": "DescriptionStyleModel",
            "description_width": "",
            "_view_module": "@jupyter-widgets/base",
            "_model_module_version": "1.5.0",
            "_view_count": null,
            "_view_module_version": "1.2.0",
            "_model_module": "@jupyter-widgets/controls"
          }
        },
        "b1abb6a789584e3988c3f189307d19f4": {
          "model_module": "@jupyter-widgets/base",
          "model_name": "LayoutModel",
          "state": {
            "_view_name": "LayoutView",
            "grid_template_rows": null,
            "right": null,
            "justify_content": null,
            "_view_module": "@jupyter-widgets/base",
            "overflow": null,
            "_model_module_version": "1.2.0",
            "_view_count": null,
            "flex_flow": null,
            "width": null,
            "min_width": null,
            "border": null,
            "align_items": null,
            "bottom": null,
            "_model_module": "@jupyter-widgets/base",
            "top": null,
            "grid_column": null,
            "overflow_y": null,
            "overflow_x": null,
            "grid_auto_flow": null,
            "grid_area": null,
            "grid_template_columns": null,
            "flex": null,
            "_model_name": "LayoutModel",
            "justify_items": null,
            "grid_row": null,
            "max_height": null,
            "align_content": null,
            "visibility": null,
            "align_self": null,
            "height": null,
            "min_height": null,
            "padding": null,
            "grid_auto_rows": null,
            "grid_gap": null,
            "max_width": null,
            "order": null,
            "_view_module_version": "1.2.0",
            "grid_template_areas": null,
            "object_position": null,
            "object_fit": null,
            "grid_auto_columns": null,
            "margin": null,
            "display": null,
            "left": null
          }
        },
        "3d88005187884928b166a4eb774c4d01": {
          "model_module": "@jupyter-widgets/controls",
          "model_name": "HBoxModel",
          "state": {
            "_view_name": "HBoxView",
            "_dom_classes": [],
            "_model_name": "HBoxModel",
            "_view_module": "@jupyter-widgets/controls",
            "_model_module_version": "1.5.0",
            "_view_count": null,
            "_view_module_version": "1.5.0",
            "box_style": "",
            "layout": "IPY_MODEL_479f8582a75e4a03ba45c6d836171ea9",
            "_model_module": "@jupyter-widgets/controls",
            "children": [
              "IPY_MODEL_5e0941ff92204ca7938ad4b317620835",
              "IPY_MODEL_c0636939ce344993ba269ff66efd9678"
            ]
          }
        },
        "479f8582a75e4a03ba45c6d836171ea9": {
          "model_module": "@jupyter-widgets/base",
          "model_name": "LayoutModel",
          "state": {
            "_view_name": "LayoutView",
            "grid_template_rows": null,
            "right": null,
            "justify_content": null,
            "_view_module": "@jupyter-widgets/base",
            "overflow": null,
            "_model_module_version": "1.2.0",
            "_view_count": null,
            "flex_flow": null,
            "width": null,
            "min_width": null,
            "border": null,
            "align_items": null,
            "bottom": null,
            "_model_module": "@jupyter-widgets/base",
            "top": null,
            "grid_column": null,
            "overflow_y": null,
            "overflow_x": null,
            "grid_auto_flow": null,
            "grid_area": null,
            "grid_template_columns": null,
            "flex": null,
            "_model_name": "LayoutModel",
            "justify_items": null,
            "grid_row": null,
            "max_height": null,
            "align_content": null,
            "visibility": null,
            "align_self": null,
            "height": null,
            "min_height": null,
            "padding": null,
            "grid_auto_rows": null,
            "grid_gap": null,
            "max_width": null,
            "order": null,
            "_view_module_version": "1.2.0",
            "grid_template_areas": null,
            "object_position": null,
            "object_fit": null,
            "grid_auto_columns": null,
            "margin": null,
            "display": null,
            "left": null
          }
        },
        "5e0941ff92204ca7938ad4b317620835": {
          "model_module": "@jupyter-widgets/controls",
          "model_name": "FloatProgressModel",
          "state": {
            "_view_name": "ProgressView",
            "style": "IPY_MODEL_2cd3cf552b4744c7ba280550aae2004b",
            "_dom_classes": [],
            "description": "100%",
            "_model_name": "FloatProgressModel",
            "bar_style": "success",
            "max": 100,
            "_view_module": "@jupyter-widgets/controls",
            "_model_module_version": "1.5.0",
            "value": 100,
            "_view_count": null,
            "_view_module_version": "1.5.0",
            "orientation": "horizontal",
            "min": 0,
            "description_tooltip": null,
            "_model_module": "@jupyter-widgets/controls",
            "layout": "IPY_MODEL_7914a06caba1494d902c0a1542f33f53"
          }
        },
        "c0636939ce344993ba269ff66efd9678": {
          "model_module": "@jupyter-widgets/controls",
          "model_name": "HTMLModel",
          "state": {
            "_view_name": "HTMLView",
            "style": "IPY_MODEL_ade2cb0562254de3863256d6d2f3352d",
            "_dom_classes": [],
            "description": "",
            "_model_name": "HTMLModel",
            "placeholder": "​",
            "_view_module": "@jupyter-widgets/controls",
            "_model_module_version": "1.5.0",
            "value": " 100/100 [08:28&lt;00:00,  5.08s/it]",
            "_view_count": null,
            "_view_module_version": "1.5.0",
            "description_tooltip": null,
            "_model_module": "@jupyter-widgets/controls",
            "layout": "IPY_MODEL_119823074f7f4ed480cae76e03f7e226"
          }
        },
        "2cd3cf552b4744c7ba280550aae2004b": {
          "model_module": "@jupyter-widgets/controls",
          "model_name": "ProgressStyleModel",
          "state": {
            "_view_name": "StyleView",
            "_model_name": "ProgressStyleModel",
            "description_width": "initial",
            "_view_module": "@jupyter-widgets/base",
            "_model_module_version": "1.5.0",
            "_view_count": null,
            "_view_module_version": "1.2.0",
            "bar_color": null,
            "_model_module": "@jupyter-widgets/controls"
          }
        },
        "7914a06caba1494d902c0a1542f33f53": {
          "model_module": "@jupyter-widgets/base",
          "model_name": "LayoutModel",
          "state": {
            "_view_name": "LayoutView",
            "grid_template_rows": null,
            "right": null,
            "justify_content": null,
            "_view_module": "@jupyter-widgets/base",
            "overflow": null,
            "_model_module_version": "1.2.0",
            "_view_count": null,
            "flex_flow": null,
            "width": null,
            "min_width": null,
            "border": null,
            "align_items": null,
            "bottom": null,
            "_model_module": "@jupyter-widgets/base",
            "top": null,
            "grid_column": null,
            "overflow_y": null,
            "overflow_x": null,
            "grid_auto_flow": null,
            "grid_area": null,
            "grid_template_columns": null,
            "flex": null,
            "_model_name": "LayoutModel",
            "justify_items": null,
            "grid_row": null,
            "max_height": null,
            "align_content": null,
            "visibility": null,
            "align_self": null,
            "height": null,
            "min_height": null,
            "padding": null,
            "grid_auto_rows": null,
            "grid_gap": null,
            "max_width": null,
            "order": null,
            "_view_module_version": "1.2.0",
            "grid_template_areas": null,
            "object_position": null,
            "object_fit": null,
            "grid_auto_columns": null,
            "margin": null,
            "display": null,
            "left": null
          }
        },
        "ade2cb0562254de3863256d6d2f3352d": {
          "model_module": "@jupyter-widgets/controls",
          "model_name": "DescriptionStyleModel",
          "state": {
            "_view_name": "StyleView",
            "_model_name": "DescriptionStyleModel",
            "description_width": "",
            "_view_module": "@jupyter-widgets/base",
            "_model_module_version": "1.5.0",
            "_view_count": null,
            "_view_module_version": "1.2.0",
            "_model_module": "@jupyter-widgets/controls"
          }
        },
        "119823074f7f4ed480cae76e03f7e226": {
          "model_module": "@jupyter-widgets/base",
          "model_name": "LayoutModel",
          "state": {
            "_view_name": "LayoutView",
            "grid_template_rows": null,
            "right": null,
            "justify_content": null,
            "_view_module": "@jupyter-widgets/base",
            "overflow": null,
            "_model_module_version": "1.2.0",
            "_view_count": null,
            "flex_flow": null,
            "width": null,
            "min_width": null,
            "border": null,
            "align_items": null,
            "bottom": null,
            "_model_module": "@jupyter-widgets/base",
            "top": null,
            "grid_column": null,
            "overflow_y": null,
            "overflow_x": null,
            "grid_auto_flow": null,
            "grid_area": null,
            "grid_template_columns": null,
            "flex": null,
            "_model_name": "LayoutModel",
            "justify_items": null,
            "grid_row": null,
            "max_height": null,
            "align_content": null,
            "visibility": null,
            "align_self": null,
            "height": null,
            "min_height": null,
            "padding": null,
            "grid_auto_rows": null,
            "grid_gap": null,
            "max_width": null,
            "order": null,
            "_view_module_version": "1.2.0",
            "grid_template_areas": null,
            "object_position": null,
            "object_fit": null,
            "grid_auto_columns": null,
            "margin": null,
            "display": null,
            "left": null
          }
        },
        "cde080ecaaca45b8b0d2f1e9f61d254e": {
          "model_module": "@jupyter-widgets/controls",
          "model_name": "HBoxModel",
          "state": {
            "_view_name": "HBoxView",
            "_dom_classes": [],
            "_model_name": "HBoxModel",
            "_view_module": "@jupyter-widgets/controls",
            "_model_module_version": "1.5.0",
            "_view_count": null,
            "_view_module_version": "1.5.0",
            "box_style": "",
            "layout": "IPY_MODEL_b17e34ca756f4c0a94b03f8f9d6909d8",
            "_model_module": "@jupyter-widgets/controls",
            "children": [
              "IPY_MODEL_607b161c7a0d45e3984f48190139640b",
              "IPY_MODEL_9ccb681cccb3401c89b5319d8dab06e4"
            ]
          }
        },
        "b17e34ca756f4c0a94b03f8f9d6909d8": {
          "model_module": "@jupyter-widgets/base",
          "model_name": "LayoutModel",
          "state": {
            "_view_name": "LayoutView",
            "grid_template_rows": null,
            "right": null,
            "justify_content": null,
            "_view_module": "@jupyter-widgets/base",
            "overflow": null,
            "_model_module_version": "1.2.0",
            "_view_count": null,
            "flex_flow": null,
            "width": null,
            "min_width": null,
            "border": null,
            "align_items": null,
            "bottom": null,
            "_model_module": "@jupyter-widgets/base",
            "top": null,
            "grid_column": null,
            "overflow_y": null,
            "overflow_x": null,
            "grid_auto_flow": null,
            "grid_area": null,
            "grid_template_columns": null,
            "flex": null,
            "_model_name": "LayoutModel",
            "justify_items": null,
            "grid_row": null,
            "max_height": null,
            "align_content": null,
            "visibility": null,
            "align_self": null,
            "height": null,
            "min_height": null,
            "padding": null,
            "grid_auto_rows": null,
            "grid_gap": null,
            "max_width": null,
            "order": null,
            "_view_module_version": "1.2.0",
            "grid_template_areas": null,
            "object_position": null,
            "object_fit": null,
            "grid_auto_columns": null,
            "margin": null,
            "display": null,
            "left": null
          }
        },
        "607b161c7a0d45e3984f48190139640b": {
          "model_module": "@jupyter-widgets/controls",
          "model_name": "FloatProgressModel",
          "state": {
            "_view_name": "ProgressView",
            "style": "IPY_MODEL_0560d749c94d4a2689effc31e4268e33",
            "_dom_classes": [],
            "description": "100%",
            "_model_name": "FloatProgressModel",
            "bar_style": "success",
            "max": 100,
            "_view_module": "@jupyter-widgets/controls",
            "_model_module_version": "1.5.0",
            "value": 100,
            "_view_count": null,
            "_view_module_version": "1.5.0",
            "orientation": "horizontal",
            "min": 0,
            "description_tooltip": null,
            "_model_module": "@jupyter-widgets/controls",
            "layout": "IPY_MODEL_c2b5ac9be4e847b3b5bdae01247357df"
          }
        },
        "9ccb681cccb3401c89b5319d8dab06e4": {
          "model_module": "@jupyter-widgets/controls",
          "model_name": "HTMLModel",
          "state": {
            "_view_name": "HTMLView",
            "style": "IPY_MODEL_72ee9bc0513a44bea88c7fdc90e1a353",
            "_dom_classes": [],
            "description": "",
            "_model_name": "HTMLModel",
            "placeholder": "​",
            "_view_module": "@jupyter-widgets/controls",
            "_model_module_version": "1.5.0",
            "value": " 100/100 [1:05:04&lt;00:00, 39.05s/it]",
            "_view_count": null,
            "_view_module_version": "1.5.0",
            "description_tooltip": null,
            "_model_module": "@jupyter-widgets/controls",
            "layout": "IPY_MODEL_3ad301f0c80144668a1e57fdae81ef20"
          }
        },
        "0560d749c94d4a2689effc31e4268e33": {
          "model_module": "@jupyter-widgets/controls",
          "model_name": "ProgressStyleModel",
          "state": {
            "_view_name": "StyleView",
            "_model_name": "ProgressStyleModel",
            "description_width": "initial",
            "_view_module": "@jupyter-widgets/base",
            "_model_module_version": "1.5.0",
            "_view_count": null,
            "_view_module_version": "1.2.0",
            "bar_color": null,
            "_model_module": "@jupyter-widgets/controls"
          }
        },
        "c2b5ac9be4e847b3b5bdae01247357df": {
          "model_module": "@jupyter-widgets/base",
          "model_name": "LayoutModel",
          "state": {
            "_view_name": "LayoutView",
            "grid_template_rows": null,
            "right": null,
            "justify_content": null,
            "_view_module": "@jupyter-widgets/base",
            "overflow": null,
            "_model_module_version": "1.2.0",
            "_view_count": null,
            "flex_flow": null,
            "width": null,
            "min_width": null,
            "border": null,
            "align_items": null,
            "bottom": null,
            "_model_module": "@jupyter-widgets/base",
            "top": null,
            "grid_column": null,
            "overflow_y": null,
            "overflow_x": null,
            "grid_auto_flow": null,
            "grid_area": null,
            "grid_template_columns": null,
            "flex": null,
            "_model_name": "LayoutModel",
            "justify_items": null,
            "grid_row": null,
            "max_height": null,
            "align_content": null,
            "visibility": null,
            "align_self": null,
            "height": null,
            "min_height": null,
            "padding": null,
            "grid_auto_rows": null,
            "grid_gap": null,
            "max_width": null,
            "order": null,
            "_view_module_version": "1.2.0",
            "grid_template_areas": null,
            "object_position": null,
            "object_fit": null,
            "grid_auto_columns": null,
            "margin": null,
            "display": null,
            "left": null
          }
        },
        "72ee9bc0513a44bea88c7fdc90e1a353": {
          "model_module": "@jupyter-widgets/controls",
          "model_name": "DescriptionStyleModel",
          "state": {
            "_view_name": "StyleView",
            "_model_name": "DescriptionStyleModel",
            "description_width": "",
            "_view_module": "@jupyter-widgets/base",
            "_model_module_version": "1.5.0",
            "_view_count": null,
            "_view_module_version": "1.2.0",
            "_model_module": "@jupyter-widgets/controls"
          }
        },
        "3ad301f0c80144668a1e57fdae81ef20": {
          "model_module": "@jupyter-widgets/base",
          "model_name": "LayoutModel",
          "state": {
            "_view_name": "LayoutView",
            "grid_template_rows": null,
            "right": null,
            "justify_content": null,
            "_view_module": "@jupyter-widgets/base",
            "overflow": null,
            "_model_module_version": "1.2.0",
            "_view_count": null,
            "flex_flow": null,
            "width": null,
            "min_width": null,
            "border": null,
            "align_items": null,
            "bottom": null,
            "_model_module": "@jupyter-widgets/base",
            "top": null,
            "grid_column": null,
            "overflow_y": null,
            "overflow_x": null,
            "grid_auto_flow": null,
            "grid_area": null,
            "grid_template_columns": null,
            "flex": null,
            "_model_name": "LayoutModel",
            "justify_items": null,
            "grid_row": null,
            "max_height": null,
            "align_content": null,
            "visibility": null,
            "align_self": null,
            "height": null,
            "min_height": null,
            "padding": null,
            "grid_auto_rows": null,
            "grid_gap": null,
            "max_width": null,
            "order": null,
            "_view_module_version": "1.2.0",
            "grid_template_areas": null,
            "object_position": null,
            "object_fit": null,
            "grid_auto_columns": null,
            "margin": null,
            "display": null,
            "left": null
          }
        }
      }
    }
  },
  "cells": [
    {
      "cell_type": "code",
      "metadata": {
        "id": "B8AzmIIcW4K3"
      },
      "source": [
        "import pandas as pd\n",
        "import gzip\n",
        "import array\n",
        "import numpy as np\n",
        "import networkx as nx"
      ],
      "execution_count": null,
      "outputs": []
    },
    {
      "cell_type": "code",
      "metadata": {
        "id": "I2EtJIMmH_1_"
      },
      "source": [
        "from tqdm.notebook import tqdm"
      ],
      "execution_count": null,
      "outputs": []
    },
    {
      "cell_type": "code",
      "metadata": {
        "id": "S6Brv28OoTAw"
      },
      "source": [
        "from collections import deque\n",
        "from scipy.sparse import coo, coo_matrix"
      ],
      "execution_count": null,
      "outputs": []
    },
    {
      "cell_type": "code",
      "metadata": {
        "id": "52_pVE9b3Ui6"
      },
      "source": [
        "import matplotlib.pyplot as plt"
      ],
      "execution_count": null,
      "outputs": []
    },
    {
      "cell_type": "markdown",
      "metadata": {
        "id": "xvzgWSpoNhWH"
      },
      "source": [
        "# Data utils"
      ]
    },
    {
      "cell_type": "code",
      "metadata": {
        "id": "gctb2druy5pk"
      },
      "source": [
        "def parse(path):\n",
        "  g = gzip.open(path, 'rb')\n",
        "  for l in g:\n",
        "    yield eval(l)\n",
        "\n",
        "def getDF(path):\n",
        "  i = 0\n",
        "  df = {}\n",
        "  for d in parse(path):\n",
        "    df[i] = d\n",
        "    i += 1\n",
        "  return pd.DataFrame.from_dict(df, orient='index')\n",
        "\n",
        "def readImageFeatures(path):\n",
        "  f = open(path, 'rb')\n",
        "  while True:\n",
        "    asin = f.read(10)\n",
        "    if asin == '': break\n",
        "    a = array.array('f')\n",
        "    try:\n",
        "      a.fromfile(f, 4096)\n",
        "    except:\n",
        "      break\n",
        "    yield asin, a.tolist()\n",
        "\n",
        "def related_convert_to_list(x):\n",
        "  r = set([])\n",
        "  if x.isna()['related']:\n",
        "    return r\n",
        "  else:\n",
        "    x = x['related']\n",
        "    for key in x:\n",
        "      for item in x[key]:\n",
        "        r.add(item)\n",
        "    return r"
      ],
      "execution_count": null,
      "outputs": []
    },
    {
      "cell_type": "markdown",
      "metadata": {
        "id": "cjN4YACEFDIU"
      },
      "source": [
        "## Musical Instruments"
      ]
    },
    {
      "cell_type": "code",
      "metadata": {
        "id": "4HY5ttW6Vxku"
      },
      "source": [
        "category = 'Musical_Instruments'"
      ],
      "execution_count": null,
      "outputs": []
    },
    {
      "cell_type": "code",
      "metadata": {
        "id": "Ov49ZWwGk70g",
        "colab": {
          "base_uri": "https://localhost:8080/"
        },
        "outputId": "8fa433d7-62cd-4bf4-e94a-5a2b3d650262"
      },
      "source": [
        "!wget http://snap.stanford.edu/data/amazon/productGraph/categoryFiles/ratings_Musical_Instruments.csv\n",
        "!wget http://snap.stanford.edu/data/amazon/productGraph/categoryFiles/meta_Musical_Instruments.json.gz\n",
        "# !wget http://snap.stanford.edu/data/amazon/productGraph/image_features/categoryFiles/image_features_Musical_Instruments.b"
      ],
      "execution_count": null,
      "outputs": [
        {
          "output_type": "stream",
          "text": [
            "--2021-06-30 02:49:29--  http://snap.stanford.edu/data/amazon/productGraph/categoryFiles/ratings_Musical_Instruments.csv\n",
            "Resolving snap.stanford.edu (snap.stanford.edu)... 171.64.75.80\n",
            "Connecting to snap.stanford.edu (snap.stanford.edu)|171.64.75.80|:80... connected.\n",
            "HTTP request sent, awaiting response... 200 OK\n",
            "Length: 20376609 (19M) [text/csv]\n",
            "Saving to: ‘ratings_Musical_Instruments.csv’\n",
            "\n",
            "ratings_Musical_Ins 100%[===================>]  19.43M  11.4MB/s    in 1.7s    \n",
            "\n",
            "2021-06-30 02:49:31 (11.4 MB/s) - ‘ratings_Musical_Instruments.csv’ saved [20376609/20376609]\n",
            "\n",
            "--2021-06-30 02:49:31--  http://snap.stanford.edu/data/amazon/productGraph/categoryFiles/meta_Musical_Instruments.json.gz\n",
            "Resolving snap.stanford.edu (snap.stanford.edu)... 171.64.75.80\n",
            "Connecting to snap.stanford.edu (snap.stanford.edu)|171.64.75.80|:80... connected.\n",
            "HTTP request sent, awaiting response... 200 OK\n",
            "Length: 30816870 (29M) [application/x-gzip]\n",
            "Saving to: ‘meta_Musical_Instruments.json.gz’\n",
            "\n",
            "meta_Musical_Instru 100%[===================>]  29.39M  6.13MB/s    in 4.8s    \n",
            "\n",
            "2021-06-30 02:49:36 (6.12 MB/s) - ‘meta_Musical_Instruments.json.gz’ saved [30816870/30816870]\n",
            "\n"
          ],
          "name": "stdout"
        }
      ]
    },
    {
      "cell_type": "code",
      "metadata": {
        "colab": {
          "base_uri": "https://localhost:8080/",
          "height": 419
        },
        "id": "kdk1tVg3HLB_",
        "outputId": "e2557afb-a0fb-481d-9ed1-0416386582d1"
      },
      "source": [
        "ratings_df = pd.read_csv('ratings_{}.csv'.format(category), header=None)\n",
        "ratings_df[2] = ratings_df[2].apply(lambda x: x / 5)\n",
        "ratings_df"
      ],
      "execution_count": null,
      "outputs": [
        {
          "output_type": "execute_result",
          "data": {
            "text/html": [
              "<div>\n",
              "<style scoped>\n",
              "    .dataframe tbody tr th:only-of-type {\n",
              "        vertical-align: middle;\n",
              "    }\n",
              "\n",
              "    .dataframe tbody tr th {\n",
              "        vertical-align: top;\n",
              "    }\n",
              "\n",
              "    .dataframe thead th {\n",
              "        text-align: right;\n",
              "    }\n",
              "</style>\n",
              "<table border=\"1\" class=\"dataframe\">\n",
              "  <thead>\n",
              "    <tr style=\"text-align: right;\">\n",
              "      <th></th>\n",
              "      <th>0</th>\n",
              "      <th>1</th>\n",
              "      <th>2</th>\n",
              "      <th>3</th>\n",
              "    </tr>\n",
              "  </thead>\n",
              "  <tbody>\n",
              "    <tr>\n",
              "      <th>0</th>\n",
              "      <td>A1YS9MDZP93857</td>\n",
              "      <td>0006428320</td>\n",
              "      <td>0.6</td>\n",
              "      <td>1394496000</td>\n",
              "    </tr>\n",
              "    <tr>\n",
              "      <th>1</th>\n",
              "      <td>A3TS466QBAWB9D</td>\n",
              "      <td>0014072149</td>\n",
              "      <td>1.0</td>\n",
              "      <td>1370476800</td>\n",
              "    </tr>\n",
              "    <tr>\n",
              "      <th>2</th>\n",
              "      <td>A3BUDYITWUSIS7</td>\n",
              "      <td>0041291905</td>\n",
              "      <td>1.0</td>\n",
              "      <td>1381708800</td>\n",
              "    </tr>\n",
              "    <tr>\n",
              "      <th>3</th>\n",
              "      <td>A19K10Z0D2NTZK</td>\n",
              "      <td>0041913574</td>\n",
              "      <td>1.0</td>\n",
              "      <td>1285200000</td>\n",
              "    </tr>\n",
              "    <tr>\n",
              "      <th>4</th>\n",
              "      <td>A14X336IB4JD89</td>\n",
              "      <td>0201891859</td>\n",
              "      <td>0.2</td>\n",
              "      <td>1350432000</td>\n",
              "    </tr>\n",
              "    <tr>\n",
              "      <th>...</th>\n",
              "      <td>...</td>\n",
              "      <td>...</td>\n",
              "      <td>...</td>\n",
              "      <td>...</td>\n",
              "    </tr>\n",
              "    <tr>\n",
              "      <th>500171</th>\n",
              "      <td>A2XEVARMJP81E</td>\n",
              "      <td>B00LIR7QNS</td>\n",
              "      <td>1.0</td>\n",
              "      <td>1405641600</td>\n",
              "    </tr>\n",
              "    <tr>\n",
              "      <th>500172</th>\n",
              "      <td>A3PAQGM6P87MXO</td>\n",
              "      <td>B00LJD5AUM</td>\n",
              "      <td>1.0</td>\n",
              "      <td>1404518400</td>\n",
              "    </tr>\n",
              "    <tr>\n",
              "      <th>500173</th>\n",
              "      <td>A2KZX7A4XZ4T2W</td>\n",
              "      <td>B00LK7A9SK</td>\n",
              "      <td>1.0</td>\n",
              "      <td>1404518400</td>\n",
              "    </tr>\n",
              "    <tr>\n",
              "      <th>500174</th>\n",
              "      <td>AIDHT6KXOL64T</td>\n",
              "      <td>SMLRBIMX03</td>\n",
              "      <td>1.0</td>\n",
              "      <td>1355788800</td>\n",
              "    </tr>\n",
              "    <tr>\n",
              "      <th>500175</th>\n",
              "      <td>A161I1MHX2G2BR</td>\n",
              "      <td>SMLRBIMX03</td>\n",
              "      <td>0.8</td>\n",
              "      <td>1364860800</td>\n",
              "    </tr>\n",
              "  </tbody>\n",
              "</table>\n",
              "<p>500176 rows × 4 columns</p>\n",
              "</div>"
            ],
            "text/plain": [
              "                     0           1    2           3\n",
              "0       A1YS9MDZP93857  0006428320  0.6  1394496000\n",
              "1       A3TS466QBAWB9D  0014072149  1.0  1370476800\n",
              "2       A3BUDYITWUSIS7  0041291905  1.0  1381708800\n",
              "3       A19K10Z0D2NTZK  0041913574  1.0  1285200000\n",
              "4       A14X336IB4JD89  0201891859  0.2  1350432000\n",
              "...                ...         ...  ...         ...\n",
              "500171   A2XEVARMJP81E  B00LIR7QNS  1.0  1405641600\n",
              "500172  A3PAQGM6P87MXO  B00LJD5AUM  1.0  1404518400\n",
              "500173  A2KZX7A4XZ4T2W  B00LK7A9SK  1.0  1404518400\n",
              "500174   AIDHT6KXOL64T  SMLRBIMX03  1.0  1355788800\n",
              "500175  A161I1MHX2G2BR  SMLRBIMX03  0.8  1364860800\n",
              "\n",
              "[500176 rows x 4 columns]"
            ]
          },
          "metadata": {
            "tags": []
          },
          "execution_count": 7
        }
      ]
    },
    {
      "cell_type": "code",
      "metadata": {
        "id": "I9Kav0oBMVqB",
        "colab": {
          "base_uri": "https://localhost:8080/"
        },
        "outputId": "60f85c1e-1f9d-4691-f6fb-8f7478c522fd"
      },
      "source": [
        "len(set(ratings_df[0]))"
      ],
      "execution_count": null,
      "outputs": [
        {
          "output_type": "execute_result",
          "data": {
            "text/plain": [
              "339231"
            ]
          },
          "metadata": {
            "tags": []
          },
          "execution_count": 9
        }
      ]
    },
    {
      "cell_type": "markdown",
      "metadata": {
        "id": "B63KGYbxMfMY"
      },
      "source": [
        "Include buyers that have purchased at least 3 products"
      ]
    },
    {
      "cell_type": "code",
      "metadata": {
        "id": "vNEvsirz1OJB"
      },
      "source": [
        "ratings_df = ratings_df[ratings_df.groupby(0)[1].transform('count')>3]\n",
        "ratings_df = ratings_df.reset_index(drop=True)"
      ],
      "execution_count": null,
      "outputs": []
    },
    {
      "cell_type": "code",
      "metadata": {
        "colab": {
          "base_uri": "https://localhost:8080/",
          "height": 419
        },
        "id": "oRQeOGYK2Lg0",
        "outputId": "608697c0-7143-438d-bd4f-63657cdfeca8"
      },
      "source": [
        "ratings_df"
      ],
      "execution_count": null,
      "outputs": [
        {
          "output_type": "execute_result",
          "data": {
            "text/html": [
              "<div>\n",
              "<style scoped>\n",
              "    .dataframe tbody tr th:only-of-type {\n",
              "        vertical-align: middle;\n",
              "    }\n",
              "\n",
              "    .dataframe tbody tr th {\n",
              "        vertical-align: top;\n",
              "    }\n",
              "\n",
              "    .dataframe thead th {\n",
              "        text-align: right;\n",
              "    }\n",
              "</style>\n",
              "<table border=\"1\" class=\"dataframe\">\n",
              "  <thead>\n",
              "    <tr style=\"text-align: right;\">\n",
              "      <th></th>\n",
              "      <th>0</th>\n",
              "      <th>1</th>\n",
              "      <th>2</th>\n",
              "      <th>3</th>\n",
              "    </tr>\n",
              "  </thead>\n",
              "  <tbody>\n",
              "    <tr>\n",
              "      <th>0</th>\n",
              "      <td>A1YS9MDZP93857</td>\n",
              "      <td>0006428320</td>\n",
              "      <td>0.6</td>\n",
              "      <td>1394496000</td>\n",
              "    </tr>\n",
              "    <tr>\n",
              "      <th>1</th>\n",
              "      <td>A3TS466QBAWB9D</td>\n",
              "      <td>0014072149</td>\n",
              "      <td>1.0</td>\n",
              "      <td>1370476800</td>\n",
              "    </tr>\n",
              "    <tr>\n",
              "      <th>2</th>\n",
              "      <td>A2HR0IL3TC4CKL</td>\n",
              "      <td>0577088726</td>\n",
              "      <td>1.0</td>\n",
              "      <td>1371168000</td>\n",
              "    </tr>\n",
              "    <tr>\n",
              "      <th>3</th>\n",
              "      <td>AXMWZYP2IROMP</td>\n",
              "      <td>0634029355</td>\n",
              "      <td>0.4</td>\n",
              "      <td>1352419200</td>\n",
              "    </tr>\n",
              "    <tr>\n",
              "      <th>4</th>\n",
              "      <td>A1M7OWNI93N1Y3</td>\n",
              "      <td>0634029363</td>\n",
              "      <td>0.4</td>\n",
              "      <td>1365897600</td>\n",
              "    </tr>\n",
              "    <tr>\n",
              "      <th>...</th>\n",
              "      <td>...</td>\n",
              "      <td>...</td>\n",
              "      <td>...</td>\n",
              "      <td>...</td>\n",
              "    </tr>\n",
              "    <tr>\n",
              "      <th>111658</th>\n",
              "      <td>AU4HC1AD4LE3E</td>\n",
              "      <td>B00KQ7Y2AQ</td>\n",
              "      <td>1.0</td>\n",
              "      <td>1404345600</td>\n",
              "    </tr>\n",
              "    <tr>\n",
              "      <th>111659</th>\n",
              "      <td>ACDXZ39D2FL13</td>\n",
              "      <td>B00KVVNWP8</td>\n",
              "      <td>1.0</td>\n",
              "      <td>1404432000</td>\n",
              "    </tr>\n",
              "    <tr>\n",
              "      <th>111660</th>\n",
              "      <td>A15HOKGIHN0XNG</td>\n",
              "      <td>B00KVWRBTK</td>\n",
              "      <td>1.0</td>\n",
              "      <td>1405123200</td>\n",
              "    </tr>\n",
              "    <tr>\n",
              "      <th>111661</th>\n",
              "      <td>A2NYK9KWFMJV4Y</td>\n",
              "      <td>B00KWIMAGC</td>\n",
              "      <td>1.0</td>\n",
              "      <td>1404777600</td>\n",
              "    </tr>\n",
              "    <tr>\n",
              "      <th>111662</th>\n",
              "      <td>A2B36P2QL36J7U</td>\n",
              "      <td>B00LBEUTN2</td>\n",
              "      <td>1.0</td>\n",
              "      <td>1405123200</td>\n",
              "    </tr>\n",
              "  </tbody>\n",
              "</table>\n",
              "<p>111663 rows × 4 columns</p>\n",
              "</div>"
            ],
            "text/plain": [
              "                     0           1    2           3\n",
              "0       A1YS9MDZP93857  0006428320  0.6  1394496000\n",
              "1       A3TS466QBAWB9D  0014072149  1.0  1370476800\n",
              "2       A2HR0IL3TC4CKL  0577088726  1.0  1371168000\n",
              "3        AXMWZYP2IROMP  0634029355  0.4  1352419200\n",
              "4       A1M7OWNI93N1Y3  0634029363  0.4  1365897600\n",
              "...                ...         ...  ...         ...\n",
              "111658   AU4HC1AD4LE3E  B00KQ7Y2AQ  1.0  1404345600\n",
              "111659   ACDXZ39D2FL13  B00KVVNWP8  1.0  1404432000\n",
              "111660  A15HOKGIHN0XNG  B00KVWRBTK  1.0  1405123200\n",
              "111661  A2NYK9KWFMJV4Y  B00KWIMAGC  1.0  1404777600\n",
              "111662  A2B36P2QL36J7U  B00LBEUTN2  1.0  1405123200\n",
              "\n",
              "[111663 rows x 4 columns]"
            ]
          },
          "metadata": {
            "tags": []
          },
          "execution_count": 11
        }
      ]
    },
    {
      "cell_type": "code",
      "metadata": {
        "id": "qSjGm5aa2sJ5"
      },
      "source": [
        "ratings_df_index = {id:i for i,id in enumerate(ratings_df[0])}"
      ],
      "execution_count": null,
      "outputs": []
    },
    {
      "cell_type": "code",
      "metadata": {
        "id": "bqcCbsD7Uav6"
      },
      "source": [
        "ratings_df_reviewer = ratings_df.set_index(0)\n",
        "ratings_df_asin = ratings_df.set_index(1)"
      ],
      "execution_count": null,
      "outputs": []
    },
    {
      "cell_type": "code",
      "metadata": {
        "id": "I-g4c8R32c7r"
      },
      "source": [
        "ratings_df_index = {id:i for i,id in enumerate(ratings_df[0])}"
      ],
      "execution_count": null,
      "outputs": []
    },
    {
      "cell_type": "code",
      "metadata": {
        "colab": {
          "base_uri": "https://localhost:8080/"
        },
        "id": "Hi2Q1JCeKvhx",
        "outputId": "47bd7986-515d-4210-d8df-05b13816502a"
      },
      "source": [
        "meta_df = getDF('meta_{}.json.gz'.format(category))\n",
        "meta_df = meta_df[['asin', 'related']]\n",
        "meta_df = meta_df.set_index('asin')\n",
        "meta_df = meta_df.apply(lambda x: related_convert_to_list(x), axis=1)\n",
        "meta_df"
      ],
      "execution_count": null,
      "outputs": [
        {
          "output_type": "execute_result",
          "data": {
            "text/plain": [
              "asin\n",
              "0006428320                                                   {}\n",
              "0014072149                                         {B0058DK7RA}\n",
              "0041291905                                                   {}\n",
              "0041913574                                                   {}\n",
              "0201891859                                                   {}\n",
              "                                    ...                        \n",
              "B00LEWRD80    {B007NMZ64S, B007PR4ZFM, B004MZG1IO, B007NM952...\n",
              "B00LIR7QNS    {B00502E892, B005KYUETS, B00LIR3SK8, B0002F7C5...\n",
              "B00LJD5AUM                                                   {}\n",
              "B00LK7A9SK                                                   {}\n",
              "SMLRBIMX03    {B001E95KGK, B003VXNPN2, B000K112K6, B006X4VNS...\n",
              "Length: 84901, dtype: object"
            ]
          },
          "metadata": {
            "tags": []
          },
          "execution_count": 14
        }
      ]
    },
    {
      "cell_type": "markdown",
      "metadata": {
        "id": "vdJoG0_FSNSP"
      },
      "source": [
        "# Data exploration"
      ]
    },
    {
      "cell_type": "code",
      "metadata": {
        "id": "QPooY6EI1oTW"
      },
      "source": [
        "def add_to_queue_or_graph(Q, G, source, to_add, indicator, depth):\n",
        "        if isinstance(to_add, str):\n",
        "            if to_add not in G._node:\n",
        "                Q.append((to_add, indicator, depth))\n",
        "            else:\n",
        "                G.add_edge(source, to_add)\n",
        "        else:\n",
        "            for t in to_add:\n",
        "                add_to_queue_or_graph(Q, G, source, t, indicator, depth)"
      ],
      "execution_count": null,
      "outputs": []
    },
    {
      "cell_type": "code",
      "metadata": {
        "id": "kcy3FtCT01_k"
      },
      "source": [
        "def get_graph_around_user(user, max_depth):\n",
        "      '''\n",
        "      Return a adjacency matrix and feature matrix of graph surrounding the user\n",
        "      '''\n",
        "      G = nx.Graph()\n",
        "      Q = deque()\n",
        "      Q.append((user, 0, 0)) # 0 user, 0 for depth\n",
        "      idx = 0\n",
        "\n",
        "      while Q:\n",
        "          node_name, node_type, depth = Q.popleft()\n",
        "          if depth > max_depth: break\n",
        "\n",
        "          if node_name not in G._node:\n",
        "              G.add_node(node_name)\n",
        "\n",
        "          if node_type == 0: # User\n",
        "              products = ratings_df_reviewer.loc[node_name][1]\n",
        "              add_to_queue_or_graph(Q, G, node_name, products, 1, depth+1)\n",
        "\n",
        "          else:\n",
        "              if node_name in meta_df.index:\n",
        "                  products = meta_df.loc[node_name]\n",
        "                  add_to_queue_or_graph(Q, G, node_name, products, 1, depth+1)\n",
        "\n",
        "              if node_name in ratings_df_asin.index:\n",
        "                  users = ratings_df_asin.loc[node_name][0]\n",
        "                  add_to_queue_or_graph(Q, G, node_name, users, 0, depth+1)\n",
        "\n",
        "      return G.number_of_nodes()"
      ],
      "execution_count": null,
      "outputs": []
    },
    {
      "cell_type": "code",
      "metadata": {
        "colab": {
          "base_uri": "https://localhost:8080/",
          "height": 908,
          "referenced_widgets": [
            "ea029875c7c74d0f814c7fdf4d3b74bf",
            "ff3179e4d70943acb63b77af1179285f",
            "6d7bc655de19402d98212282f9256689",
            "8a7baae9cfbb43cc9d583959024bdba9",
            "7072e4e2972b4b4c857209ae370fccc2",
            "5c4ffdbd4921447babedde17a92e63b2",
            "d435090622434480af8afa5bbf666aee",
            "b1abb6a789584e3988c3f189307d19f4",
            "3d88005187884928b166a4eb774c4d01",
            "479f8582a75e4a03ba45c6d836171ea9",
            "5e0941ff92204ca7938ad4b317620835",
            "c0636939ce344993ba269ff66efd9678",
            "2cd3cf552b4744c7ba280550aae2004b",
            "7914a06caba1494d902c0a1542f33f53",
            "ade2cb0562254de3863256d6d2f3352d",
            "119823074f7f4ed480cae76e03f7e226",
            "cde080ecaaca45b8b0d2f1e9f61d254e",
            "b17e34ca756f4c0a94b03f8f9d6909d8",
            "607b161c7a0d45e3984f48190139640b",
            "9ccb681cccb3401c89b5319d8dab06e4",
            "0560d749c94d4a2689effc31e4268e33",
            "c2b5ac9be4e847b3b5bdae01247357df",
            "72ee9bc0513a44bea88c7fdc90e1a353",
            "3ad301f0c80144668a1e57fdae81ef20"
          ]
        },
        "id": "o36xUMmx2HkP",
        "outputId": "38140921-d014-4133-d2c6-b1171c2c4090"
      },
      "source": [
        "number_of_nodes = {}\n",
        "for max_depth in range(1, 4):\n",
        "  number_of_nodes[max_depth] = []\n",
        "  for user in tqdm(ratings_df_reviewer.index[:100]):\n",
        "    number_of_nodes[max_depth].append(get_graph_around_user(user, max_depth))\n",
        "  plt.hist(number_of_nodes[max_depth])\n",
        "  plt.show()"
      ],
      "execution_count": null,
      "outputs": [
        {
          "output_type": "display_data",
          "data": {
            "application/vnd.jupyter.widget-view+json": {
              "model_id": "ea029875c7c74d0f814c7fdf4d3b74bf",
              "version_minor": 0,
              "version_major": 2
            },
            "text/plain": [
              "HBox(children=(FloatProgress(value=0.0), HTML(value='')))"
            ]
          },
          "metadata": {
            "tags": []
          }
        },
        {
          "output_type": "stream",
          "text": [
            "\n"
          ],
          "name": "stdout"
        },
        {
          "output_type": "display_data",
          "data": {
            "image/png": "[encoded data removed]",
            "text/plain": [
              "<Figure size 432x288 with 1 Axes>"
            ]
          },
          "metadata": {
            "tags": [],
            "needs_background": "light"
          }
        },
        {
          "output_type": "display_data",
          "data": {
            "application/vnd.jupyter.widget-view+json": {
              "model_id": "3d88005187884928b166a4eb774c4d01",
              "version_minor": 0,
              "version_major": 2
            },
            "text/plain": [
              "HBox(children=(FloatProgress(value=0.0), HTML(value='')))"
            ]
          },
          "metadata": {
            "tags": []
          }
        },
        {
          "output_type": "stream",
          "text": [
            "\n"
          ],
          "name": "stdout"
        },
        {
          "output_type": "display_data",
          "data": {
            "image/png": "[encoded data removed]",
            "text/plain": [
              "<Figure size 432x288 with 1 Axes>"
            ]
          },
          "metadata": {
            "tags": [],
            "needs_background": "light"
          }
        },
        {
          "output_type": "display_data",
          "data": {
            "application/vnd.jupyter.widget-view+json": {
              "model_id": "cde080ecaaca45b8b0d2f1e9f61d254e",
              "version_minor": 0,
              "version_major": 2
            },
            "text/plain": [
              "HBox(children=(FloatProgress(value=0.0), HTML(value='')))"
            ]
          },
          "metadata": {
            "tags": []
          }
        },
        {
          "output_type": "stream",
          "text": [
            "\n"
          ],
          "name": "stdout"
        },
        {
          "output_type": "display_data",
          "data": {
            "image/png": "[encoded data removed]",
            "text/plain": [
              "<Figure size 432x288 with 1 Axes>"
            ]
          },
          "metadata": {
            "tags": [],
            "needs_background": "light"
          }
        }
      ]
    },
    {
      "cell_type": "code",
      "metadata": {
        "colab": {
          "base_uri": "https://localhost:8080/",
          "height": 297
        },
        "id": "dlF2Je83Jv09",
        "outputId": "c2f7859c-dd5e-4e42-dd97-fca848b708e1"
      },
      "source": [
        "pd.DataFrame(number_of_nodes).describe()"
      ],
      "execution_count": null,
      "outputs": [
        {
          "output_type": "execute_result",
          "data": {
            "text/html": [
              "<div>\n",
              "<style scoped>\n",
              "    .dataframe tbody tr th:only-of-type {\n",
              "        vertical-align: middle;\n",
              "    }\n",
              "\n",
              "    .dataframe tbody tr th {\n",
              "        vertical-align: top;\n",
              "    }\n",
              "\n",
              "    .dataframe thead th {\n",
              "        text-align: right;\n",
              "    }\n",
              "</style>\n",
              "<table border=\"1\" class=\"dataframe\">\n",
              "  <thead>\n",
              "    <tr style=\"text-align: right;\">\n",
              "      <th></th>\n",
              "      <th>1</th>\n",
              "      <th>2</th>\n",
              "      <th>3</th>\n",
              "    </tr>\n",
              "  </thead>\n",
              "  <tbody>\n",
              "    <tr>\n",
              "      <th>count</th>\n",
              "      <td>100.000000</td>\n",
              "      <td>100.000000</td>\n",
              "      <td>100.000000</td>\n",
              "    </tr>\n",
              "    <tr>\n",
              "      <th>mean</th>\n",
              "      <td>12.200000</td>\n",
              "      <td>571.960000</td>\n",
              "      <td>6548.400000</td>\n",
              "    </tr>\n",
              "    <tr>\n",
              "      <th>std</th>\n",
              "      <td>16.729578</td>\n",
              "      <td>533.220517</td>\n",
              "      <td>5332.258587</td>\n",
              "    </tr>\n",
              "    <tr>\n",
              "      <th>min</th>\n",
              "      <td>5.000000</td>\n",
              "      <td>45.000000</td>\n",
              "      <td>45.000000</td>\n",
              "    </tr>\n",
              "    <tr>\n",
              "      <th>25%</th>\n",
              "      <td>5.000000</td>\n",
              "      <td>270.000000</td>\n",
              "      <td>1863.000000</td>\n",
              "    </tr>\n",
              "    <tr>\n",
              "      <th>50%</th>\n",
              "      <td>6.000000</td>\n",
              "      <td>406.500000</td>\n",
              "      <td>6442.000000</td>\n",
              "    </tr>\n",
              "    <tr>\n",
              "      <th>75%</th>\n",
              "      <td>11.250000</td>\n",
              "      <td>648.500000</td>\n",
              "      <td>9032.500000</td>\n",
              "    </tr>\n",
              "    <tr>\n",
              "      <th>max</th>\n",
              "      <td>114.000000</td>\n",
              "      <td>3321.000000</td>\n",
              "      <td>27123.000000</td>\n",
              "    </tr>\n",
              "  </tbody>\n",
              "</table>\n",
              "</div>"
            ],
            "text/plain": [
              "                1            2             3\n",
              "count  100.000000   100.000000    100.000000\n",
              "mean    12.200000   571.960000   6548.400000\n",
              "std     16.729578   533.220517   5332.258587\n",
              "min      5.000000    45.000000     45.000000\n",
              "25%      5.000000   270.000000   1863.000000\n",
              "50%      6.000000   406.500000   6442.000000\n",
              "75%     11.250000   648.500000   9032.500000\n",
              "max    114.000000  3321.000000  27123.000000"
            ]
          },
          "metadata": {
            "tags": []
          },
          "execution_count": 46
        }
      ]
    },
    {
      "cell_type": "code",
      "metadata": {
        "id": "V8-7kK0NGPu3"
      },
      "source": [
        "!wget http://snap.stanford.edu/data/amazon/productGraph/categoryFiles/ratings_Movies_and_TV.csv"
      ],
      "execution_count": null,
      "outputs": []
    },
    {
      "cell_type": "code",
      "metadata": {
        "id": "pLAv4M1wGbWD"
      },
      "source": [
        "movies_ratings_df = pd.read_csv('ratings_Movies_and_TV.csv', header = None)"
      ],
      "execution_count": null,
      "outputs": []
    },
    {
      "cell_type": "code",
      "metadata": {
        "id": "6Nieb_ruHSZx"
      },
      "source": [
        "# Number of common customers ordering both categories\n",
        "print(len(set(ratings_df[0]).intersection(movies_ratings_df[0])))"
      ],
      "execution_count": null,
      "outputs": []
    },
    {
      "cell_type": "code",
      "metadata": {
        "id": "tIPXQTfNHTtn"
      },
      "source": [
        "# Number of customers ordering category products (in total)\n",
        "len(set(ratings_df[0]))"
      ],
      "execution_count": null,
      "outputs": []
    }
  ]
}